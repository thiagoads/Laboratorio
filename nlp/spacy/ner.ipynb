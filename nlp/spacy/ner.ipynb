{
 "cells": [
  {
   "cell_type": "markdown",
   "metadata": {},
   "source": [
    "##### Named Entity Recognition c/ spaCy"
   ]
  },
  {
   "cell_type": "code",
   "execution_count": 1,
   "metadata": {},
   "outputs": [],
   "source": [
    "import spacy\n",
    "from spacy import displacy\n",
    "from collections import Counter\n",
    "from pypdf import PdfReader"
   ]
  },
  {
   "cell_type": "code",
   "execution_count": 2,
   "metadata": {},
   "outputs": [
    {
     "data": {
      "text/plain": [
       "True"
      ]
     },
     "execution_count": 2,
     "metadata": {},
     "output_type": "execute_result"
    }
   ],
   "source": [
    "# usa gpu se tiver\n",
    "spacy.prefer_gpu()"
   ]
  },
  {
   "cell_type": "code",
   "execution_count": 3,
   "metadata": {},
   "outputs": [
    {
     "name": "stdout",
     "output_type": "stream",
     "text": [
      "['tok2vec', 'morphologizer', 'parser', 'lemmatizer', 'attribute_ruler', 'ner']\n"
     ]
    }
   ],
   "source": [
    "nlp = spacy.load('pt_core_news_sm')\n",
    "print(nlp.pipe_names)"
   ]
  },
  {
   "cell_type": "code",
   "execution_count": 4,
   "metadata": {},
   "outputs": [
    {
     "name": "stdout",
     "output_type": "stream",
     "text": [
      "Maior medalhista da história do Brasil, Rebeca Andrade foi a atleta do país que mais faturou com seu desempenho nas Olimpíadas de Paris.\n"
     ]
    }
   ],
   "source": [
    "# processando texto\n",
    "text = \"Maior medalhista da história do Brasil, Rebeca Andrade foi a atleta do país que mais faturou com seu desempenho nas Olimpíadas de Paris.\"\n",
    "doc = nlp(text)\n",
    "print(doc)"
   ]
  },
  {
   "cell_type": "code",
   "execution_count": 5,
   "metadata": {},
   "outputs": [
    {
     "name": "stdout",
     "output_type": "stream",
     "text": [
      "TOKEN     \tLEMMA     \tPOS\tTAG\tDEP       \tSHAPE\tAPHA\tSTOP\tEXPLAIN   \tMORPH\t\n",
      "Maior     \tmaior     \tADJ\tADJ\tnsubj     \tXxxxx\tTrue\tTrue\tadjective \tGender=Fem|Number=Sing\t\n",
      "medalhista\tmedalhista\tADJ\tADJ\tamod      \txxxx\tTrue\tFalse\tadjective \tGender=Fem|Number=Sing\t\n",
      "da        \tde o      \tADP\tADP\tcase      \txx\tTrue\tTrue\tadposition\tDefinite=Def|Gender=Fem|Number=Sing|PronType=Art\t\n",
      "história  \thistória  \tNOUN\tNOUN\tnmod      \txxxx\tTrue\tFalse\tnoun      \tGender=Fem|Number=Sing\t\n",
      "do        \tde o      \tADP\tADP\tcase      \txx\tTrue\tTrue\tadposition\tDefinite=Def|Gender=Masc|Number=Sing|PronType=Art\t\n",
      "Brasil    \tBrasil    \tPROPN\tPROPN\tnmod      \tXxxxx\tTrue\tFalse\tproper noun\tGender=Masc|Number=Sing\t\n",
      ",         \t,         \tPUNCT\tPUNCT\tpunct     \t,\tFalse\tFalse\tpunctuation\t\t\n",
      "Rebeca    \tRebeca    \tPROPN\tPROPN\tappos     \tXxxxx\tTrue\tFalse\tproper noun\tGender=Fem|Number=Sing\t\n",
      "Andrade   \tAndrade   \tPROPN\tPROPN\tflat:name \tXxxxx\tTrue\tFalse\tproper noun\tNumber=Sing\t\n",
      "foi       \tser       \tAUX\tAUX\tcop       \txxx\tTrue\tTrue\tauxiliary \tMood=Ind|Number=Sing|Person=3|Tense=Past|VerbForm=Fin\t\n",
      "a         \to         \tDET\tDET\tdet       \tx\tTrue\tTrue\tdeterminer\tDefinite=Def|Gender=Fem|Number=Sing|PronType=Art\t\n",
      "atleta    \tatleta    \tNOUN\tNOUN\tROOT      \txxxx\tTrue\tFalse\tnoun      \tGender=Fem|Number=Sing\t\n",
      "do        \tde o      \tADP\tADP\tcase      \txx\tTrue\tTrue\tadposition\tDefinite=Def|Gender=Masc|Number=Sing|PronType=Art\t\n",
      "país      \tpaís      \tNOUN\tNOUN\tnmod      \txxxx\tTrue\tFalse\tnoun      \tGender=Masc|Number=Sing\t\n",
      "que       \tque       \tPRON\tPRON\tnsubj     \txxx\tTrue\tTrue\tpronoun   \tGender=Masc|Number=Sing|PronType=Rel\t\n",
      "mais      \tmais      \tADV\tADV\tadvmod    \txxxx\tTrue\tTrue\tadverb    \t\t\n",
      "faturou   \tfaturar   \tVERB\tVERB\tacl:relcl \txxxx\tTrue\tFalse\tverb      \tMood=Ind|Number=Sing|Person=3|Tense=Past|VerbForm=Fin\t\n",
      "com       \tcom       \tADP\tADP\tcase      \txxx\tTrue\tTrue\tadposition\t\t\n",
      "seu       \tseu       \tDET\tDET\tdet       \txxx\tTrue\tTrue\tdeterminer\tGender=Masc|Number=Sing|PronType=Prs\t\n",
      "desempenho\tdesempenho\tNOUN\tNOUN\tobl       \txxxx\tTrue\tFalse\tnoun      \tGender=Masc|Number=Sing\t\n",
      "nas       \tem o      \tADP\tADP\tcase      \txxx\tTrue\tTrue\tadposition\tDefinite=Def|Gender=Fem|Number=Plur|PronType=Art\t\n",
      "Olimpíadas\tOlimpíadas\tPROPN\tPROPN\tnmod      \tXxxxx\tTrue\tFalse\tproper noun\tGender=Fem|Number=Plur\t\n",
      "de        \tde        \tADP\tADP\tcase      \txx\tTrue\tTrue\tadposition\t\t\n",
      "Paris     \tParis     \tPROPN\tPROPN\tnmod      \tXxxxx\tTrue\tFalse\tproper noun\tNumber=Sing\t\n",
      ".         \t.         \tPUNCT\tPUNCT\tpunct     \t.\tFalse\tFalse\tpunctuation\t\t\n"
     ]
    }
   ],
   "source": [
    "template = \"{: <10}\\t{: <10}\\t{}\\t{}\\t{: <10}\\t{}\\t{}\\t{}\\t{: <10}\\t{}\\t\"\n",
    "header = template.format(\"TOKEN\",\"LEMMA\",\"POS\",\"TAG\",\"DEP\",\"SHAPE\",\"APHA\",\"STOP\",\"EXPLAIN\",\"MORPH\")\n",
    "print(header)\n",
    "for token in doc:\n",
    "    print(template.format(\n",
    "        token.text, token.lemma_, token.pos_, token.tag_, token.dep_,\n",
    "        token.shape_, token.is_alpha, token.is_stop, spacy.explain(token.tag_), token.morph))"
   ]
  },
  {
   "cell_type": "code",
   "execution_count": 6,
   "metadata": {},
   "outputs": [
    {
     "data": {
      "text/html": [
       "<span class=\"tex2jax_ignore\"><div class=\"entities\" style=\"line-height: 2.5; direction: ltr\">Maior medalhista da história do \n",
       "<mark class=\"entity\" style=\"background: #ff9561; padding: 0.45em 0.6em; margin: 0 0.25em; line-height: 1; border-radius: 0.35em;\">\n",
       "    Brasil\n",
       "    <span style=\"font-size: 0.8em; font-weight: bold; line-height: 1; border-radius: 0.35em; vertical-align: middle; margin-left: 0.5rem\">LOC</span>\n",
       "</mark>\n",
       ", \n",
       "<mark class=\"entity\" style=\"background: #ddd; padding: 0.45em 0.6em; margin: 0 0.25em; line-height: 1; border-radius: 0.35em;\">\n",
       "    Rebeca Andrade\n",
       "    <span style=\"font-size: 0.8em; font-weight: bold; line-height: 1; border-radius: 0.35em; vertical-align: middle; margin-left: 0.5rem\">PER</span>\n",
       "</mark>\n",
       " foi a atleta do país que mais faturou com seu desempenho nas \n",
       "<mark class=\"entity\" style=\"background: #ddd; padding: 0.45em 0.6em; margin: 0 0.25em; line-height: 1; border-radius: 0.35em;\">\n",
       "    Olimpíadas de Paris\n",
       "    <span style=\"font-size: 0.8em; font-weight: bold; line-height: 1; border-radius: 0.35em; vertical-align: middle; margin-left: 0.5rem\">MISC</span>\n",
       "</mark>\n",
       ".</div></span>"
      ],
      "text/plain": [
       "<IPython.core.display.HTML object>"
      ]
     },
     "metadata": {},
     "output_type": "display_data"
    }
   ],
   "source": [
    "doc = nlp(text)\n",
    "displacy.render(doc, style=\"ent\", jupyter=True)"
   ]
  },
  {
   "cell_type": "code",
   "execution_count": 7,
   "metadata": {},
   "outputs": [
    {
     "data": {
      "text/plain": [
       "(Brasil, Rebeca Andrade, Olimpíadas de Paris)"
      ]
     },
     "execution_count": 7,
     "metadata": {},
     "output_type": "execute_result"
    }
   ],
   "source": [
    "doc.ents"
   ]
  },
  {
   "cell_type": "code",
   "execution_count": 8,
   "metadata": {},
   "outputs": [
    {
     "name": "stdout",
     "output_type": "stream",
     "text": [
      "Brasil LOC\n",
      "Rebeca Andrade PER\n",
      "Olimpíadas de Paris MISC\n"
     ]
    }
   ],
   "source": [
    "for ent in doc.ents:\n",
    "    print(ent.text, ent.label_)"
   ]
  },
  {
   "cell_type": "code",
   "execution_count": 9,
   "metadata": {},
   "outputs": [
    {
     "data": {
      "text/html": [
       "<span class=\"tex2jax_ignore\"><svg xmlns=\"http://www.w3.org/2000/svg\" xmlns:xlink=\"http://www.w3.org/1999/xlink\" xml:lang=\"pt\" id=\"f0bd5c4e59174fd79026bb382ff41541-0\" class=\"displacy\" width=\"1100\" height=\"312.0\" direction=\"ltr\" style=\"max-width: none; height: 312.0px; color: #000000; background: #ffffff; font-family: Arial; direction: ltr\">\n",
       "<text class=\"displacy-token\" fill=\"currentColor\" text-anchor=\"middle\" y=\"222.0\">\n",
       "    <tspan class=\"displacy-word\" fill=\"currentColor\" x=\"50\">Maior</tspan>\n",
       "    <tspan class=\"displacy-tag\" dy=\"2em\" fill=\"currentColor\" x=\"50\">ADJ</tspan>\n",
       "</text>\n",
       "\n",
       "<text class=\"displacy-token\" fill=\"currentColor\" text-anchor=\"middle\" y=\"222.0\">\n",
       "    <tspan class=\"displacy-word\" fill=\"currentColor\" x=\"225\">medalhista</tspan>\n",
       "    <tspan class=\"displacy-tag\" dy=\"2em\" fill=\"currentColor\" x=\"225\">ADJ</tspan>\n",
       "</text>\n",
       "\n",
       "<text class=\"displacy-token\" fill=\"currentColor\" text-anchor=\"middle\" y=\"222.0\">\n",
       "    <tspan class=\"displacy-word\" fill=\"currentColor\" x=\"400\">da</tspan>\n",
       "    <tspan class=\"displacy-tag\" dy=\"2em\" fill=\"currentColor\" x=\"400\">ADP</tspan>\n",
       "</text>\n",
       "\n",
       "<text class=\"displacy-token\" fill=\"currentColor\" text-anchor=\"middle\" y=\"222.0\">\n",
       "    <tspan class=\"displacy-word\" fill=\"currentColor\" x=\"575\">história</tspan>\n",
       "    <tspan class=\"displacy-tag\" dy=\"2em\" fill=\"currentColor\" x=\"575\">NOUN</tspan>\n",
       "</text>\n",
       "\n",
       "<text class=\"displacy-token\" fill=\"currentColor\" text-anchor=\"middle\" y=\"222.0\">\n",
       "    <tspan class=\"displacy-word\" fill=\"currentColor\" x=\"750\">do</tspan>\n",
       "    <tspan class=\"displacy-tag\" dy=\"2em\" fill=\"currentColor\" x=\"750\">ADP</tspan>\n",
       "</text>\n",
       "\n",
       "<text class=\"displacy-token\" fill=\"currentColor\" text-anchor=\"middle\" y=\"222.0\">\n",
       "    <tspan class=\"displacy-word\" fill=\"currentColor\" x=\"925\">Brasil.</tspan>\n",
       "    <tspan class=\"displacy-tag\" dy=\"2em\" fill=\"currentColor\" x=\"925\">PROPN</tspan>\n",
       "</text>\n",
       "\n",
       "<g class=\"displacy-arrow\">\n",
       "    <path class=\"displacy-arc\" id=\"arrow-f0bd5c4e59174fd79026bb382ff41541-0-0\" stroke-width=\"2px\" d=\"M70,177.0 C70,89.5 220.0,89.5 220.0,177.0\" fill=\"none\" stroke=\"currentColor\"/>\n",
       "    <text dy=\"1.25em\" style=\"font-size: 0.8em; letter-spacing: 1px\">\n",
       "        <textPath xlink:href=\"#arrow-f0bd5c4e59174fd79026bb382ff41541-0-0\" class=\"displacy-label\" startOffset=\"50%\" side=\"left\" fill=\"currentColor\" text-anchor=\"middle\">amod</textPath>\n",
       "    </text>\n",
       "    <path class=\"displacy-arrowhead\" d=\"M220.0,179.0 L228.0,167.0 212.0,167.0\" fill=\"currentColor\"/>\n",
       "</g>\n",
       "\n",
       "<g class=\"displacy-arrow\">\n",
       "    <path class=\"displacy-arc\" id=\"arrow-f0bd5c4e59174fd79026bb382ff41541-0-1\" stroke-width=\"2px\" d=\"M420,177.0 C420,89.5 570.0,89.5 570.0,177.0\" fill=\"none\" stroke=\"currentColor\"/>\n",
       "    <text dy=\"1.25em\" style=\"font-size: 0.8em; letter-spacing: 1px\">\n",
       "        <textPath xlink:href=\"#arrow-f0bd5c4e59174fd79026bb382ff41541-0-1\" class=\"displacy-label\" startOffset=\"50%\" side=\"left\" fill=\"currentColor\" text-anchor=\"middle\">case</textPath>\n",
       "    </text>\n",
       "    <path class=\"displacy-arrowhead\" d=\"M420,179.0 L412,167.0 428,167.0\" fill=\"currentColor\"/>\n",
       "</g>\n",
       "\n",
       "<g class=\"displacy-arrow\">\n",
       "    <path class=\"displacy-arc\" id=\"arrow-f0bd5c4e59174fd79026bb382ff41541-0-2\" stroke-width=\"2px\" d=\"M70,177.0 C70,2.0 575.0,2.0 575.0,177.0\" fill=\"none\" stroke=\"currentColor\"/>\n",
       "    <text dy=\"1.25em\" style=\"font-size: 0.8em; letter-spacing: 1px\">\n",
       "        <textPath xlink:href=\"#arrow-f0bd5c4e59174fd79026bb382ff41541-0-2\" class=\"displacy-label\" startOffset=\"50%\" side=\"left\" fill=\"currentColor\" text-anchor=\"middle\">nmod</textPath>\n",
       "    </text>\n",
       "    <path class=\"displacy-arrowhead\" d=\"M575.0,179.0 L583.0,167.0 567.0,167.0\" fill=\"currentColor\"/>\n",
       "</g>\n",
       "\n",
       "<g class=\"displacy-arrow\">\n",
       "    <path class=\"displacy-arc\" id=\"arrow-f0bd5c4e59174fd79026bb382ff41541-0-3\" stroke-width=\"2px\" d=\"M770,177.0 C770,89.5 920.0,89.5 920.0,177.0\" fill=\"none\" stroke=\"currentColor\"/>\n",
       "    <text dy=\"1.25em\" style=\"font-size: 0.8em; letter-spacing: 1px\">\n",
       "        <textPath xlink:href=\"#arrow-f0bd5c4e59174fd79026bb382ff41541-0-3\" class=\"displacy-label\" startOffset=\"50%\" side=\"left\" fill=\"currentColor\" text-anchor=\"middle\">case</textPath>\n",
       "    </text>\n",
       "    <path class=\"displacy-arrowhead\" d=\"M770,179.0 L762,167.0 778,167.0\" fill=\"currentColor\"/>\n",
       "</g>\n",
       "\n",
       "<g class=\"displacy-arrow\">\n",
       "    <path class=\"displacy-arc\" id=\"arrow-f0bd5c4e59174fd79026bb382ff41541-0-4\" stroke-width=\"2px\" d=\"M595,177.0 C595,2.0 925.0,2.0 925.0,177.0\" fill=\"none\" stroke=\"currentColor\"/>\n",
       "    <text dy=\"1.25em\" style=\"font-size: 0.8em; letter-spacing: 1px\">\n",
       "        <textPath xlink:href=\"#arrow-f0bd5c4e59174fd79026bb382ff41541-0-4\" class=\"displacy-label\" startOffset=\"50%\" side=\"left\" fill=\"currentColor\" text-anchor=\"middle\">nmod</textPath>\n",
       "    </text>\n",
       "    <path class=\"displacy-arrowhead\" d=\"M925.0,179.0 L933.0,167.0 917.0,167.0\" fill=\"currentColor\"/>\n",
       "</g>\n",
       "</svg></span>"
      ],
      "text/plain": [
       "<IPython.core.display.HTML object>"
      ]
     },
     "metadata": {},
     "output_type": "display_data"
    }
   ],
   "source": [
    "doc = nlp('Maior medalhista da história do Brasil.')\n",
    "displacy.render(doc, style=\"dep\", jupyter=True)"
   ]
  },
  {
   "cell_type": "markdown",
   "metadata": {},
   "source": [
    "##### Processando .txt"
   ]
  },
  {
   "cell_type": "code",
   "execution_count": 10,
   "metadata": {},
   "outputs": [
    {
     "name": "stdout",
     "output_type": "stream",
     "text": [
      "Rebeca foi a atleta brasileira que mais faturou nas Olimpíadas\n",
      "\n",
      "Rebeca Andrade, a maior medalhista da história do Brasil, foi a atleta que mais recebeu premiação pelo desempenho nas Olimpíadas de Paris\n",
      "Postado em 11 de agosto de 2024 por Matheus Santana\n",
      "\n",
      "Rebeca Andrade, a maior medalhista da história do Brasil, foi a atleta que mais recebeu premiação pelo desempenho nas Olimpíadas de Paris. Com quatro medalhas conquistadas (um ouro, duas pratas e um bronze), a ginasta embolsou R$ 826 mil do Comitê Olímpico do Brasil (COB). Além de ser a brasileira com o maior número de medalhas no evento, Rebeca se destacou como a atleta mais premiada do país.\n",
      "\n",
      "Outras atletas que também brilharam nas Olimpíadas, como Bia Souza, que garantiu uma medalha de bronze por equipes no judô, recebeu R$ 392 mil. Já as campeãs de vôlei de praia, Ana Patrícia e Duda, faturaram R$ 350 mil cada uma.\n",
      "\n",
      "No total, o Brasil conquistou 20 medalhas em Paris. O COB definiu uma premiação diferenciada para esportes individuais, em grupo (dois a seis atletas) e coletivos (sete ou mais atletas), resultando em um valor total de R$ 4.620.000,00 distribuído entre os medalhistas. Para os esportes individuais, o ouro valeu R$ 350 mil, a prata R$ 210 mil, e o bronze R$ 140 mil. As premiações em grupo e coletivas foram maiores, chegando a R$ 1.050.000,00 para o ouro em esportes coletivos.\n",
      "\n",
      "Vale destacar que os valores recebidos pelos atletas não serão tributados, pois uma medida provisória assinada recentemente pelo governo isenta os prêmios das Olimpíadas de Paris 2024 do Imposto de Renda.\n"
     ]
    }
   ],
   "source": [
    "#load text file\n",
    "with open('../data/doc.txt', encoding='utf-8') as f:\n",
    "    txt = f.read()\n",
    "    print(txt)"
   ]
  },
  {
   "cell_type": "code",
   "execution_count": 11,
   "metadata": {},
   "outputs": [],
   "source": [
    "doc = nlp(txt)\n",
    "per_counter = Counter()\n",
    "loc_counter = Counter()\n",
    "per_ents = [ent.text.lower() for ent in doc.ents if ent.label_ == \"PER\"]\n",
    "loc_ents = [ent.text.lower() for ent in doc.ents if ent.label_ == \"LOC\"]\n",
    "per_counter.update(per_ents)\n",
    "loc_counter.update(loc_ents)"
   ]
  },
  {
   "cell_type": "code",
   "execution_count": 12,
   "metadata": {},
   "outputs": [
    {
     "data": {
      "text/plain": [
       "Counter({'rebeca': 2,\n",
       "         'matheus santana\\n\\nrebeca andrade': 1,\n",
       "         'bia souza': 1,\n",
       "         'ana patrícia': 1,\n",
       "         'duda': 1,\n",
       "         'r$': 1})"
      ]
     },
     "execution_count": 12,
     "metadata": {},
     "output_type": "execute_result"
    }
   ],
   "source": [
    "per_counter"
   ]
  },
  {
   "cell_type": "code",
   "execution_count": 13,
   "metadata": {},
   "outputs": [
    {
     "data": {
      "text/plain": [
       "Counter({'brasil': 3, 'cob': 1, 'paris': 1, 'vale': 1})"
      ]
     },
     "execution_count": 13,
     "metadata": {},
     "output_type": "execute_result"
    }
   ],
   "source": [
    "loc_counter"
   ]
  },
  {
   "cell_type": "markdown",
   "metadata": {},
   "source": [
    "##### Processando .pdf"
   ]
  },
  {
   "cell_type": "code",
   "execution_count": 14,
   "metadata": {},
   "outputs": [
    {
     "name": "stdout",
     "output_type": "stream",
     "text": [
      "1\n"
     ]
    }
   ],
   "source": [
    "doe = PdfReader('../data/doc.pdf')\n",
    "print(len(doe.pages))"
   ]
  },
  {
   "cell_type": "code",
   "execution_count": 15,
   "metadata": {},
   "outputs": [],
   "source": [
    "per_counter = Counter()\n",
    "loc_counter = Counter()\n",
    "\n",
    "for page in doe.pages:\n",
    "    text = page.extract_text()\n",
    "    doc = nlp(text)\n",
    "    per_ents = [ent.text.lower() for ent in doc.ents if ent.label_ == \"PER\"]\n",
    "    loc_ents = [ent.text.lower() for ent in doc.ents if ent.label_ == \"LOC\"]\n",
    "    per_counter.update(per_ents)\n",
    "    loc_counter.update(loc_ents)"
   ]
  },
  {
   "cell_type": "code",
   "execution_count": 16,
   "metadata": {},
   "outputs": [
    {
     "data": {
      "text/plain": [
       "Counter({'rebeca': 2,\n",
       "         'matheus santana\\nrebeca andrade': 1,\n",
       "         'bia souza': 1,\n",
       "         'ana patrícia': 1,\n",
       "         'duda': 1,\n",
       "         'r$': 1})"
      ]
     },
     "execution_count": 16,
     "metadata": {},
     "output_type": "execute_result"
    }
   ],
   "source": [
    "per_counter"
   ]
  },
  {
   "cell_type": "code",
   "execution_count": 17,
   "metadata": {},
   "outputs": [
    {
     "data": {
      "text/plain": [
       "Counter({'brasil': 3, 'cob': 1, 'paris': 1, 'r$': 1, 'vale': 1})"
      ]
     },
     "execution_count": 17,
     "metadata": {},
     "output_type": "execute_result"
    }
   ],
   "source": [
    "loc_counter"
   ]
  },
  {
   "cell_type": "markdown",
   "metadata": {},
   "source": [
    "##### Processando .png"
   ]
  },
  {
   "cell_type": "code",
   "execution_count": 18,
   "metadata": {},
   "outputs": [],
   "source": [
    "from PIL import Image\n",
    "\n",
    "import pytesseract\n",
    "img = Image.open('../data/doc.png')\n",
    "text = pytesseract.image_to_string(img)"
   ]
  },
  {
   "cell_type": "code",
   "execution_count": 19,
   "metadata": {},
   "outputs": [
    {
     "name": "stdout",
     "output_type": "stream",
     "text": [
      "Rebeca foi a atleta brasileira que mais faturou nas Olimpiadas\n",
      "‘Matheus Santana\n",
      "\n",
      "Rebeca Andrade, a maior medalhista da histéria do Brasil, foi a atleta que mais recebeu premiagio pelo\n",
      "\n",
      "desempenho nas Olimpfadas de Paris,\n",
      "Postado em 11 de agosto de 2024 por Matheus Santana\n",
      "\n",
      "Rebeca Andrade, a maior medalhista da histéria do Brasil, foi a atleta que mais recebeu premiagio pelo\n",
      "desempenho nas Olimpiadas de Paris. Com quatro medalhas conquistadas (um ouro, duas pratas e um bronze), a\n",
      "ginasta embolsou RS 826 mil do Comité Olimpico do Brasil (COB). Além de ser a brasileira com 0 maior\n",
      "\n",
      "nimero de medalhas no evento, Rebeca se destacou como a atleta mais premiada do pais.\n",
      "\n",
      "Outras atletas que também brilharam nas Olimpiadas, como Bia Souza, que garantiu uma medalha de bronze\n",
      "\n",
      " \n",
      "\n",
      "por equipes no jud6, recebeu R$ 392 mil. Jé as campetis de vélei de praia, Ana Patricia e Duda, faturaram RS\n",
      "\n",
      " \n",
      "\n",
      "350 mil cada uma.\n",
      "\n",
      "   \n",
      "\n",
      "No total, o Brasil conquistou 20 medalhas em Paris. 0 COB definiu uma premiacdo diferenciada para esportes\n",
      "\n",
      " \n",
      "\n",
      "iduais, em grupo (dois a seis atletas) e coletivos (sete ou mais atletas), resultando em um valor total de RS\n",
      "4.620.000,00 di jo entre os medalhistas. Para os esporte:\n",
      "210 mil, e 0 bronze R$ 140 mil. As premiagdes em grupo e coletivas foram maiores, chegando a RS\n",
      "1.050.000,00 para 0 ouro em esportes coletivos.\n",
      "\n",
      "   \n",
      "\n",
      "luais, 0 ouro valeu R$ 350 mil, a prata RS\n",
      "\n",
      " \n",
      "\n",
      "Vale destacar que os valores recebidos pelos atletas nao serdo tributados, pois uma medida proviséria assinada\n",
      "recentemente pelo govemo isenta os prémios das Olimpiadas de Paris 2024 do Imposto de Renda.\n",
      "\n",
      " \n",
      "\f\n"
     ]
    }
   ],
   "source": [
    "print(text)"
   ]
  },
  {
   "cell_type": "code",
   "execution_count": 20,
   "metadata": {},
   "outputs": [],
   "source": [
    "doc = nlp(text)\n",
    "per_counter = Counter()\n",
    "loc_counter = Counter()\n",
    "per_ents = [ent.text.lower() for ent in doc.ents if ent.label_ == \"PER\"]\n",
    "loc_ents = [ent.text.lower() for ent in doc.ents if ent.label_ == \"LOC\"]\n",
    "per_counter.update(per_ents)\n",
    "loc_counter.update(loc_ents)"
   ]
  },
  {
   "cell_type": "code",
   "execution_count": 21,
   "metadata": {},
   "outputs": [
    {
     "data": {
      "text/plain": [
       "Counter({'rebeca': 2,\n",
       "         'matheus santana\\n\\nrebeca andrade': 2,\n",
       "         'bia souza': 1,\n",
       "         'ana patricia': 1,\n",
       "         'duda': 1})"
      ]
     },
     "execution_count": 21,
     "metadata": {},
     "output_type": "execute_result"
    }
   ],
   "source": [
    "per_counter"
   ]
  },
  {
   "cell_type": "code",
   "execution_count": 22,
   "metadata": {},
   "outputs": [
    {
     "data": {
      "text/plain": [
       "Counter({'rs': 4,\n",
       "         'brasil': 3,\n",
       "         'olimpiadas': 2,\n",
       "         'postado': 1,\n",
       "         'cob': 1,\n",
       "         'paris': 1,\n",
       "         'rs\\n\\n \\n\\nvale': 1})"
      ]
     },
     "execution_count": 22,
     "metadata": {},
     "output_type": "execute_result"
    }
   ],
   "source": [
    "loc_counter"
   ]
  },
  {
   "cell_type": "code",
   "execution_count": null,
   "metadata": {},
   "outputs": [],
   "source": []
  }
 ],
 "metadata": {
  "kernelspec": {
   "display_name": "nlp",
   "language": "python",
   "name": "python3"
  },
  "language_info": {
   "codemirror_mode": {
    "name": "ipython",
    "version": 3
   },
   "file_extension": ".py",
   "mimetype": "text/x-python",
   "name": "python",
   "nbconvert_exporter": "python",
   "pygments_lexer": "ipython3",
   "version": "3.9.16"
  }
 },
 "nbformat": 4,
 "nbformat_minor": 2
}
