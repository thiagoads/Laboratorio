{
 "cells": [
  {
   "cell_type": "code",
   "execution_count": 17,
   "metadata": {},
   "outputs": [],
   "source": [
    "from pypdf import PdfReader, PdfWriter\n",
    "from pathlib import Path"
   ]
  },
  {
   "cell_type": "code",
   "execution_count": 18,
   "metadata": {},
   "outputs": [],
   "source": [
    "path = Path('../data/doc.pdf')\n",
    "pdf = PdfReader(path)"
   ]
  },
  {
   "cell_type": "code",
   "execution_count": 19,
   "metadata": {},
   "outputs": [
    {
     "name": "stdout",
     "output_type": "stream",
     "text": [
      "1\n",
      "False\n"
     ]
    }
   ],
   "source": [
    "print(pdf.get_num_pages())\n",
    "print(pdf.is_encrypted)"
   ]
  },
  {
   "cell_type": "code",
   "execution_count": 20,
   "metadata": {},
   "outputs": [],
   "source": [
    "page = pdf.pages[0]\n",
    "text = page.extract_text()"
   ]
  },
  {
   "cell_type": "code",
   "execution_count": 21,
   "metadata": {},
   "outputs": [
    {
     "data": {
      "text/plain": [
       "'Rebeca foi a atleta brasileira que mais faturou nas OlimpíadasMatheus SantanaRebeca Andrade, a maior medalhista da história do Brasil, foi a atleta que mais recebeu premiação pelo\\ndesempenho nas Olimpíadas de Paris\\nPostado em 11 de agosto de 2024 por Matheus Santana\\nRebeca Andrade, a maior medalhista da história do Brasil, foi a atleta que mais recebeu premiação pelo\\ndesempenho nas Olimpíadas de Paris. Com quatro medalhas conquistadas (um ouro, duas pratas e um bronze), a\\nginasta embolsou R$ 826 mil do Comitê Olímpico do Brasil (COB). Além de ser a brasileira com o maior\\nnúmero de medalhas no evento, Rebeca se destacou como a atleta mais premiada do país.\\nOutras atletas que também brilharam nas Olimpíadas, como Bia Souza, que garantiu uma medalha de bronze\\npor equipes no judô, recebeu R$ 392 mil. Já as campeãs de vôlei de praia, Ana Patrícia e Duda, faturaram R$\\n350 mil cada uma.\\nNo total, o Brasil  conquistou 20 medalhas em Paris. O COB  definiu uma premiação diferenciada para esportes\\nindividuais, em grupo (dois a seis atletas) e coletivos (sete ou mais atletas), resultando em um valor total de R$\\n4.620.000,00 distribuído entre os medalhistas. Para os esportes individuais, o ouro valeu R$ 350 mil, a prata R$\\n210 mil, e o bronze R$ 140 mil. As premiações em grupo e coletivas foram maiores, chegando a R$\\n1.050.000,00 para o ouro em esportes coletivos.\\nVale destacar que os valores recebidos pelos atletas não serão tributados, pois uma medida provisória assinada\\nrecentemente pelo governo isenta os prêmios das Olimpíadas de Paris 2024 do Imposto de Renda.'"
      ]
     },
     "execution_count": 21,
     "metadata": {},
     "output_type": "execute_result"
    }
   ],
   "source": [
    "text"
   ]
  },
  {
   "cell_type": "code",
   "execution_count": 22,
   "metadata": {},
   "outputs": [],
   "source": [
    "clone = PdfWriter(clone_from=pdf)\n",
    "clone.close()"
   ]
  },
  {
   "cell_type": "code",
   "execution_count": 23,
   "metadata": {},
   "outputs": [
    {
     "name": "stdout",
     "output_type": "stream",
     "text": [
      "1\n"
     ]
    }
   ],
   "source": [
    "print(clone.get_num_pages())\n",
    "clone_page = clone.pages[0]\n",
    "clone_text = clone_page.extract_text()"
   ]
  },
  {
   "cell_type": "code",
   "execution_count": 24,
   "metadata": {},
   "outputs": [
    {
     "data": {
      "text/plain": [
       "'Rebeca foi a atleta brasileira que mais faturou nas OlimpíadasMatheus SantanaRebeca Andrade, a maior medalhista da história do Brasil, foi a atleta que mais recebeu premiação pelo\\ndesempenho nas Olimpíadas de Paris\\nPostado em 11 de agosto de 2024 por Matheus Santana\\nRebeca Andrade, a maior medalhista da história do Brasil, foi a atleta que mais recebeu premiação pelo\\ndesempenho nas Olimpíadas de Paris. Com quatro medalhas conquistadas (um ouro, duas pratas e um bronze), a\\nginasta embolsou R$ 826 mil do Comitê Olímpico do Brasil (COB). Além de ser a brasileira com o maior\\nnúmero de medalhas no evento, Rebeca se destacou como a atleta mais premiada do país.\\nOutras atletas que também brilharam nas Olimpíadas, como Bia Souza, que garantiu uma medalha de bronze\\npor equipes no judô, recebeu R$ 392 mil. Já as campeãs de vôlei de praia, Ana Patrícia e Duda, faturaram R$\\n350 mil cada uma.\\nNo total, o Brasil  conquistou 20 medalhas em Paris. O COB  definiu uma premiação diferenciada para esportes\\nindividuais, em grupo (dois a seis atletas) e coletivos (sete ou mais atletas), resultando em um valor total de R$\\n4.620.000,00 distribuído entre os medalhistas. Para os esportes individuais, o ouro valeu R$ 350 mil, a prata R$\\n210 mil, e o bronze R$ 140 mil. As premiações em grupo e coletivas foram maiores, chegando a R$\\n1.050.000,00 para o ouro em esportes coletivos.\\nVale destacar que os valores recebidos pelos atletas não serão tributados, pois uma medida provisória assinada\\nrecentemente pelo governo isenta os prêmios das Olimpíadas de Paris 2024 do Imposto de Renda.'"
      ]
     },
     "execution_count": 24,
     "metadata": {},
     "output_type": "execute_result"
    }
   ],
   "source": [
    "clone_text"
   ]
  },
  {
   "cell_type": "code",
   "execution_count": 25,
   "metadata": {},
   "outputs": [],
   "source": [
    "assert text == clone_text"
   ]
  },
  {
   "cell_type": "code",
   "execution_count": 26,
   "metadata": {},
   "outputs": [],
   "source": [
    "merged = PdfWriter(clone_from=pdf)\n",
    "merged.append_pages_from_reader(clone)"
   ]
  },
  {
   "cell_type": "code",
   "execution_count": 27,
   "metadata": {},
   "outputs": [
    {
     "name": "stdout",
     "output_type": "stream",
     "text": [
      "2\n"
     ]
    }
   ],
   "source": [
    "print(merged.get_num_pages())"
   ]
  },
  {
   "cell_type": "code",
   "execution_count": 28,
   "metadata": {},
   "outputs": [
    {
     "name": "stdout",
     "output_type": "stream",
     "text": [
      "1578\n",
      "1578\n"
     ]
    }
   ],
   "source": [
    "for page in merged.pages:\n",
    "    print(len(page.extract_text()))"
   ]
  },
  {
   "cell_type": "code",
   "execution_count": 29,
   "metadata": {},
   "outputs": [
    {
     "name": "stdout",
     "output_type": "stream",
     "text": [
      "3\n"
     ]
    }
   ],
   "source": [
    "merged.insert_blank_page(index = merged.get_num_pages() - 1)\n",
    "print(merged.get_num_pages())"
   ]
  },
  {
   "cell_type": "code",
   "execution_count": 30,
   "metadata": {},
   "outputs": [
    {
     "data": {
      "text/plain": [
       "(True, <_io.FileIO [closed]>)"
      ]
     },
     "execution_count": 30,
     "metadata": {},
     "output_type": "execute_result"
    }
   ],
   "source": [
    "merged.write(\"exemplo.pdf\")"
   ]
  },
  {
   "cell_type": "code",
   "execution_count": 31,
   "metadata": {},
   "outputs": [],
   "source": [
    "import os\n",
    "\n",
    "if os.path.isfile(\"exemplo.pdf\"):\n",
    "    os.remove(\"exemplo.pdf\")"
   ]
  },
  {
   "cell_type": "code",
   "execution_count": null,
   "metadata": {},
   "outputs": [],
   "source": []
  }
 ],
 "metadata": {
  "kernelspec": {
   "display_name": "nlp",
   "language": "python",
   "name": "python3"
  },
  "language_info": {
   "codemirror_mode": {
    "name": "ipython",
    "version": 3
   },
   "file_extension": ".py",
   "mimetype": "text/x-python",
   "name": "python",
   "nbconvert_exporter": "python",
   "pygments_lexer": "ipython3",
   "version": "3.9.16"
  }
 },
 "nbformat": 4,
 "nbformat_minor": 2
}
