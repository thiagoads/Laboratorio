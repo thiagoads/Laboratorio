{
 "cells": [
  {
   "cell_type": "markdown",
   "metadata": {},
   "source": [
    "https://mlflow.org/docs/latest/deep-learning/tensorflow/guide/index.html"
   ]
  },
  {
   "cell_type": "code",
   "execution_count": 1,
   "metadata": {},
   "outputs": [
    {
     "name": "stderr",
     "output_type": "stream",
     "text": [
      "2024-06-25 12:16:40.216296: I tensorflow/core/platform/cpu_feature_guard.cc:182] This TensorFlow binary is optimized to use available CPU instructions in performance-critical operations.\n",
      "To enable the following instructions: SSE4.1 SSE4.2 AVX AVX2 FMA, in other operations, rebuild TensorFlow with the appropriate compiler flags.\n"
     ]
    }
   ],
   "source": [
    "import mlflow\n",
    "import numpy as np\n",
    "import tensorflow as tf\n",
    "from tensorflow import keras"
   ]
  },
  {
   "cell_type": "markdown",
   "metadata": {},
   "source": [
    "logging system metrics"
   ]
  },
  {
   "cell_type": "code",
   "execution_count": 2,
   "metadata": {},
   "outputs": [],
   "source": [
    "import os\n",
    "\n",
    "os.environ[\"MLFLOW_ENABLE_SYSTEM_METRICS_LOGGING\"] = \"true\""
   ]
  },
  {
   "cell_type": "markdown",
   "metadata": {},
   "source": [
    "defining tracking server"
   ]
  },
  {
   "cell_type": "code",
   "execution_count": 3,
   "metadata": {},
   "outputs": [
    {
     "data": {
      "text/plain": [
       "<Experiment: artifact_location='mlflow-artifacts:/973493498494548905', creation_time=1719317263517, experiment_id='973493498494548905', last_update_time=1719317263517, lifecycle_stage='active', name='my-experiment', tags={'mlflow.sharedViewState.dcb2842cfd9de80df0723b295bd0922e8a7e1fdb7e6a73e69628028bd5d9f213': '{\"searchFilter\":\"\",\"orderByKey\":\"attributes.start_time\",\"orderByAsc\":false,\"startTime\":\"ALL\",\"lifecycleFilter\":\"Active\",\"datasetsFilter\":[],\"modelVersionFilter\":\"All '\n",
       "                                                                                            'Runs\",\"selectedColumns\":[\"attributes.`Source`\",\"attributes.`Models`\",\"attributes.`Dataset`\"],\"runsExpanded\":{},\"runsPinned\":[],\"runsHidden\":[],\"runsHiddenMode\":\"FIRST_10_RUNS\",\"compareRunCharts\":[{\"uuid\":\"1719320514485vpv2smex\",\"type\":\"LINE\",\"runsCountToCompare\":10,\"metricSectionId\":\"1719320514484oc0177ek\",\"deleted\":false,\"isGenerated\":true,\"metricKey\":\"loss\",\"lineSmoothness\":0,\"xAxisScaleType\":\"linear\",\"scaleType\":\"linear\",\"xAxisKey\":\"step\",\"selectedXAxisMetricKey\":\"\"},{\"uuid\":\"17193205144856gtd70un\",\"type\":\"LINE\",\"runsCountToCompare\":10,\"metricSectionId\":\"1719320514484oc0177ek\",\"deleted\":false,\"isGenerated\":true,\"metricKey\":\"sparse_categorical_accuracy\",\"lineSmoothness\":0,\"xAxisScaleType\":\"linear\",\"scaleType\":\"linear\",\"xAxisKey\":\"step\",\"selectedXAxisMetricKey\":\"\"}],\"compareRunSections\":[{\"uuid\":\"1719320514484oc0177ek\",\"name\":\"Model '\n",
       "                                                                                            'metrics\",\"display\":true,\"isReordered\":false,\"deleted\":false,\"isGenerated\":true},{\"uuid\":\"17193205144846m7w480z\",\"name\":\"System '\n",
       "                                                                                            'metrics\",\"display\":true,\"isReordered\":false,\"deleted\":false,\"isGenerated\":true}],\"viewMaximized\":false,\"runListHidden\":false,\"isAccordionReordered\":false,\"useGroupedValuesInCharts\":true,\"groupBy\":null,\"groupsExpanded\":{},\"autoRefreshEnabled\":false}'}>"
      ]
     },
     "execution_count": 3,
     "metadata": {},
     "output_type": "execute_result"
    }
   ],
   "source": [
    "mlflow.set_tracking_uri(\"http://127.0.0.1:5000\")\n",
    "mlflow.set_experiment(\"my-experiment\")"
   ]
  },
  {
   "cell_type": "markdown",
   "metadata": {},
   "source": [
    "logging training"
   ]
  },
  {
   "cell_type": "code",
   "execution_count": 4,
   "metadata": {},
   "outputs": [
    {
     "name": "stderr",
     "output_type": "stream",
     "text": [
      "2024-06-25 12:16:42.854928: I tensorflow/core/common_runtime/process_util.cc:146] Creating new thread pool with default inter op setting: 2. Tune using inter_op_parallelism_threads for best performance.\n",
      "2024/06/25 12:16:43 WARNING mlflow.system_metrics.system_metrics_monitor: Skip logging GPU metrics because creating `GPUMonitor` failed with error: `pynvml` is not installed, to log GPU metrics please run `pip install pynvml` to install it..\n",
      "2024/06/25 12:16:43 INFO mlflow.system_metrics.system_metrics_monitor: Started monitoring system metrics.\n"
     ]
    },
    {
     "name": "stdout",
     "output_type": "stream",
     "text": [
      "Epoch 1/2\n",
      "3/4 [=====================>........] - ETA: 0s - loss: 0.6233 - sparse_categorical_accuracy: 0.7333"
     ]
    },
    {
     "name": "stderr",
     "output_type": "stream",
     "text": [
      "2024/06/25 12:16:44 WARNING mlflow.utils.checkpoint_utils: Checkpoint logging is skipped, because checkpoint 'save_best_only' config is True, it requires to compare the monitored metric value, but the provided monitored metric value is not available.\n"
     ]
    },
    {
     "name": "stdout",
     "output_type": "stream",
     "text": [
      "4/4 [==============================] - 1s 73ms/step - loss: 0.8806 - sparse_categorical_accuracy: 0.6000\n",
      "Epoch 2/2\n",
      "3/4 [=====================>........] - ETA: 0s - loss: 0.7571 - sparse_categorical_accuracy: 0.6000"
     ]
    },
    {
     "name": "stderr",
     "output_type": "stream",
     "text": [
      "2024/06/25 12:16:44 WARNING mlflow.utils.checkpoint_utils: Checkpoint logging is skipped, because checkpoint 'save_best_only' config is True, it requires to compare the monitored metric value, but the provided monitored metric value is not available.\n"
     ]
    },
    {
     "name": "stdout",
     "output_type": "stream",
     "text": [
      "4/4 [==============================] - 0s 48ms/step - loss: 0.7024 - sparse_categorical_accuracy: 0.6500\n",
      "1/1 [==============================] - 0s 129ms/step\n"
     ]
    },
    {
     "name": "stderr",
     "output_type": "stream",
     "text": [
      "WARNING:absl:Found untraced functions such as _jit_compiled_convolution_op, _update_step_xla while saving (showing 2 of 2). These functions will not be directly callable after loading.\n"
     ]
    },
    {
     "name": "stdout",
     "output_type": "stream",
     "text": [
      "INFO:tensorflow:Assets written to: /tmp/tmpn8vsgqkh/model/data/model/assets\n"
     ]
    },
    {
     "name": "stderr",
     "output_type": "stream",
     "text": [
      "INFO:tensorflow:Assets written to: /tmp/tmpn8vsgqkh/model/data/model/assets\n",
      "2024/06/25 12:16:52 WARNING mlflow.utils.autologging_utils: MLflow autologging encountered a warning: \"/home/thiagoads/Workspace/Programas/miniconda3/envs/tensorflow-mlflow/lib/python3.9/site-packages/_distutils_hack/__init__.py:26: UserWarning: Setuptools is replacing distutils.\"\n",
      "2024/06/25 12:16:52 INFO mlflow.system_metrics.system_metrics_monitor: Stopping system metrics monitoring...\n",
      "2024/06/25 12:16:52 INFO mlflow.system_metrics.system_metrics_monitor: Successfully terminated system metrics monitoring!\n"
     ]
    }
   ],
   "source": [
    "mlflow.tensorflow.autolog()\n",
    "\n",
    "# Prepare data for a 2-class classification.\n",
    "data = np.random.uniform(size=[20, 28, 28, 3])\n",
    "label = np.random.randint(2, size=20)\n",
    "\n",
    "model = keras.Sequential(\n",
    "    [\n",
    "        keras.Input([28, 28, 3]),\n",
    "        keras.layers.Conv2D(8, 2),\n",
    "        keras.layers.MaxPool2D(2),\n",
    "        keras.layers.Flatten(),\n",
    "        keras.layers.Dense(2),\n",
    "        keras.layers.Softmax(),\n",
    "    ]\n",
    ")\n",
    "\n",
    "model.compile(\n",
    "    loss=keras.losses.SparseCategoricalCrossentropy(),\n",
    "    optimizer=keras.optimizers.Adam(0.001),\n",
    "    metrics=[keras.metrics.SparseCategoricalAccuracy()],\n",
    ")\n",
    "\n",
    "with mlflow.start_run():\n",
    "    model.fit(data, label, batch_size=5, epochs=2)"
   ]
  },
  {
   "cell_type": "markdown",
   "metadata": {},
   "source": [
    "loading logged model"
   ]
  },
  {
   "cell_type": "code",
   "execution_count": 6,
   "metadata": {},
   "outputs": [
    {
     "name": "stdout",
     "output_type": "stream",
     "text": [
      "1/1 [==============================] - 0s 53ms/step\n"
     ]
    },
    {
     "data": {
      "text/plain": [
       "array([[0.50548565, 0.49451432],\n",
       "       [0.30224618, 0.6977538 ],\n",
       "       [0.36716378, 0.6328363 ],\n",
       "       [0.3264776 , 0.6735224 ],\n",
       "       [0.40671006, 0.59329   ],\n",
       "       [0.4070008 , 0.59299916],\n",
       "       [0.42451376, 0.5754863 ],\n",
       "       [0.3491376 , 0.6508624 ],\n",
       "       [0.46203443, 0.5379655 ],\n",
       "       [0.4924147 , 0.5075853 ],\n",
       "       [0.47422326, 0.52577674],\n",
       "       [0.3902951 , 0.6097049 ],\n",
       "       [0.34209004, 0.6579099 ],\n",
       "       [0.33114392, 0.6688561 ],\n",
       "       [0.3754936 , 0.62450635],\n",
       "       [0.4359612 , 0.5640388 ],\n",
       "       [0.426095  , 0.57390493],\n",
       "       [0.45762205, 0.542378  ],\n",
       "       [0.42206103, 0.577939  ],\n",
       "       [0.36858198, 0.631418  ]], dtype=float32)"
      ]
     },
     "execution_count": 6,
     "metadata": {},
     "output_type": "execute_result"
    }
   ],
   "source": [
    "logged_model = 'runs:/a5e04936699a4f939ecb21ade4941f4e/model'\n",
    "\n",
    "# Load model as a PyFuncModel.\n",
    "loaded_model = mlflow.pyfunc.load_model(logged_model)\n",
    "\n",
    "loaded_model.predict(data)"
   ]
  },
  {
   "cell_type": "code",
   "execution_count": null,
   "metadata": {},
   "outputs": [],
   "source": []
  }
 ],
 "metadata": {
  "kernelspec": {
   "display_name": "tensorflow-mlflow",
   "language": "python",
   "name": "python3"
  },
  "language_info": {
   "codemirror_mode": {
    "name": "ipython",
    "version": 3
   },
   "file_extension": ".py",
   "mimetype": "text/x-python",
   "name": "python",
   "nbconvert_exporter": "python",
   "pygments_lexer": "ipython3",
   "version": "3.9.16"
  }
 },
 "nbformat": 4,
 "nbformat_minor": 2
}
