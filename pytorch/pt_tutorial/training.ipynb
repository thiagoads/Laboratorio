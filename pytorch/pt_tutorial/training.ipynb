{
 "cells": [
  {
   "cell_type": "markdown",
   "metadata": {},
   "source": [
    "##### Training"
   ]
  },
  {
   "cell_type": "code",
   "execution_count": 5,
   "metadata": {},
   "outputs": [],
   "source": [
    "import torch\n",
    "import torchvision\n",
    "import torchvision.transforms as transforms\n",
    "\n",
    "from torch.utils.tensorboard import SummaryWriter\n",
    "from datetime import datetime"
   ]
  },
  {
   "cell_type": "code",
   "execution_count": 25,
   "metadata": {},
   "outputs": [
    {
     "name": "stdout",
     "output_type": "stream",
     "text": [
      "Training set has 60000 instances\n",
      "Validation set has 10000 instances\n"
     ]
    }
   ],
   "source": [
    "transform = transforms.Compose(\n",
    "    [\n",
    "        transforms.ToTensor(),\n",
    "        transforms.Normalize(mean=(0.5, ), std=(0.5, ))\n",
    "    ]\n",
    ")\n",
    "\n",
    "training_set = torchvision.datasets.FashionMNIST('./data', train=True, transform=transform, download=True)\n",
    "validation_set = torchvision.datasets.FashionMNIST('./data', train=False, transform=transform, download=True)\n",
    "\n",
    "traning_loader = torch.utils.data.DataLoader(training_set, batch_size=4, shuffle=True, num_workers=2)\n",
    "validation_loader = torch.utils.data.DataLoader(validation_set, batch_size=4, shuffle=False, num_workers=2)\n",
    "\n",
    "classes = ('T-shirt/top', 'Trouser', 'Pullover', 'Dress', 'Coat',\n",
    "           'Sandal', 'Shirt', 'Sneaker', 'Bag', 'Ankle Boot')\n",
    "\n",
    "print('Training set has {} instances'.format(len(training_set)))\n",
    "print('Validation set has {} instances'.format(len(validation_set)))"
   ]
  },
  {
   "cell_type": "code",
   "execution_count": 26,
   "metadata": {},
   "outputs": [
    {
     "name": "stdout",
     "output_type": "stream",
     "text": [
      "T-shirt/top  Sneaker  Trouser  Bag\n"
     ]
    },
    {
     "data": {
      "image/png": "[encoded data removed]",
      "text/plain": [
       "<Figure size 640x480 with 1 Axes>"
      ]
     },
     "metadata": {},
     "output_type": "display_data"
    }
   ],
   "source": [
    "import matplotlib.pyplot as plt\n",
    "import numpy as np\n",
    "\n",
    "def matplotlib_imshow(img, one_channel = False):\n",
    "    if one_channel:\n",
    "        img = img.mean(dim=0)\n",
    "    img = img / 2 + 0.5\n",
    "    npimg = img.numpy()\n",
    "    if one_channel:\n",
    "        plt.imshow(npimg, cmap='Greys')\n",
    "    else:\n",
    "        plt.imshow(np.transpose(npimg, (1, 2, 0)))\n",
    "\n",
    "dataiter = iter(traning_loader)\n",
    "images, labels = next(dataiter)\n",
    "\n",
    "img_grid = torchvision.utils.make_grid(images)\n",
    "matplotlib_imshow(img_grid, one_channel=True)\n",
    "print('  '.join(classes[labels[j]] for j in range(4)))"
   ]
  },
  {
   "cell_type": "code",
   "execution_count": 27,
   "metadata": {},
   "outputs": [],
   "source": [
    "import torch.nn as nn\n",
    "import torch.nn.functional as F\n",
    "\n",
    "class GarmentClassifier(nn.Module):\n",
    "    def __init__(self):\n",
    "        super(GarmentClassifier, self).__init__()\n",
    "        self.conv1 = nn.Conv2d(1, 6, 5)\n",
    "        self.pool = nn.MaxPool2d(2, 2)\n",
    "        self.conv2 = nn.Conv2d(6, 16, 5)\n",
    "        self.fc1 = nn.Linear(16 * 4 * 4, 120)\n",
    "        self.fc2 = nn.Linear(120, 84)\n",
    "        self.fc3 = nn.Linear(84, 10)\n",
    "\n",
    "    def forward(self, x):\n",
    "        x = self.pool(F.relu(self.conv1(x)))\n",
    "        x = self.pool(F.relu(self.conv2(x)))\n",
    "        x = x.view(-1, 16 * 4 * 4)\n",
    "        x = F.relu(self.fc1(x))\n",
    "        x = F.relu(self.fc2(x))\n",
    "        x = self.fc3(x)\n",
    "        return x\n",
    "\n",
    "model = GarmentClassifier()"
   ]
  },
  {
   "cell_type": "code",
   "execution_count": 28,
   "metadata": {},
   "outputs": [
    {
     "name": "stdout",
     "output_type": "stream",
     "text": [
      "tensor([[0.6918, 0.2298, 0.7432, 0.1030, 0.6676, 0.6574, 0.0271, 0.4314, 0.3971,\n",
      "         0.4455],\n",
      "        [0.3088, 0.0681, 0.2573, 0.3310, 0.4195, 0.1442, 0.2493, 0.9157, 0.3550,\n",
      "         0.9069],\n",
      "        [0.6887, 0.4611, 0.9999, 0.9255, 0.8689, 0.1257, 0.7117, 0.1492, 0.9057,\n",
      "         0.6840],\n",
      "        [0.5065, 0.1807, 0.4169, 0.9176, 0.7438, 0.7595, 0.2737, 0.7223, 0.2248,\n",
      "         0.2563]])\n",
      "tensor([1, 5, 3, 7])\n",
      "Total loss for this batch: 2.3296384811401367\n"
     ]
    }
   ],
   "source": [
    "loss_fn = torch.nn.CrossEntropyLoss()\n",
    "\n",
    "dummy_outputs = torch.rand(4, 10)\n",
    "dummy_labels = torch.tensor([1, 5, 3, 7])\n",
    "\n",
    "print(dummy_outputs)\n",
    "print(dummy_labels)\n",
    "\n",
    "loss = loss_fn(dummy_outputs, dummy_labels)\n",
    "print('Total loss for this batch: {}'.format(loss.item()))"
   ]
  },
  {
   "cell_type": "code",
   "execution_count": 29,
   "metadata": {},
   "outputs": [],
   "source": [
    "optimizer = torch.optim.SGD(model.parameters(), lr = 0.001, momentum=0.9)"
   ]
  },
  {
   "cell_type": "code",
   "execution_count": 30,
   "metadata": {},
   "outputs": [],
   "source": [
    "def train_one_epoch(epoch_index, tb_writer):\n",
    "    running_loss = 0.\n",
    "    last_loss = 0.\n",
    "\n",
    "    for i, data in enumerate(traning_loader):\n",
    "        inputs, labels = data\n",
    "        optimizer.zero_grad()\n",
    "        outputs = model(inputs)\n",
    "        loss = loss_fn(outputs, labels)\n",
    "        loss.backward()\n",
    "        optimizer.step()\n",
    "        running_loss += loss.item()\n",
    "\n",
    "        if i % 1000 == 999:\n",
    "            last_loss = running_loss / 1000\n",
    "            print('   batch {} loss: {}'.format(i + 1, last_loss))\n",
    "            tb_x = epoch_index * len(traning_loader) + i + 1\n",
    "            tb_writer.add_scalar('Loss/train', last_loss, tb_x)\n",
    "            running_loss = 0.\n",
    "            \n",
    "    return last_loss"
   ]
  },
  {
   "cell_type": "code",
   "execution_count": 31,
   "metadata": {},
   "outputs": [],
   "source": [
    "timestamp = datetime.now().strftime('%Y%m%d_%H%M%S')\n",
    "writer = SummaryWriter('runs/fashion_trainer_{}'.format(timestamp))\n",
    "epoch_number = 0"
   ]
  },
  {
   "cell_type": "code",
   "execution_count": 34,
   "metadata": {},
   "outputs": [
    {
     "name": "stdout",
     "output_type": "stream",
     "text": [
      "EPOCH 6:\n",
      "   batch 1000 loss: 0.2754822583779114\n",
      "   batch 2000 loss: 0.26348238086472703\n",
      "   batch 3000 loss: 0.27280601649183517\n",
      "   batch 4000 loss: 0.2690154216703231\n",
      "   batch 5000 loss: 0.2707005743347449\n",
      "   batch 6000 loss: 0.2720331478058506\n",
      "   batch 7000 loss: 0.2742315559081799\n",
      "   batch 8000 loss: 0.26641434028969707\n",
      "   batch 9000 loss: 0.28874686932983606\n",
      "   batch 10000 loss: 0.2708307335197676\n",
      "   batch 11000 loss: 0.2581585292113741\n",
      "   batch 12000 loss: 0.27086213325680136\n",
      "   batch 13000 loss: 0.2858723176418325\n",
      "   batch 14000 loss: 0.2876848262638341\n",
      "   batch 15000 loss: 0.2656811610095419\n",
      "LOSS train 0.2656811610095419 valid 0.2970227003097534\n",
      "EPOCH 7:\n",
      "   batch 1000 loss: 0.23495637004556238\n",
      "   batch 2000 loss: 0.24901419111285258\n",
      "   batch 3000 loss: 0.2489811041764101\n",
      "   batch 4000 loss: 0.2507939982153239\n",
      "   batch 5000 loss: 0.24706700242277657\n",
      "   batch 6000 loss: 0.26835173479780494\n",
      "   batch 7000 loss: 0.26932692031400074\n",
      "   batch 8000 loss: 0.26097353185187605\n",
      "   batch 9000 loss: 0.2661694931698503\n",
      "   batch 10000 loss: 0.27200540212407576\n",
      "   batch 11000 loss: 0.28005614793451966\n",
      "   batch 12000 loss: 0.24874763381842785\n",
      "   batch 13000 loss: 0.2778834618638211\n",
      "   batch 14000 loss: 0.26950518499628745\n",
      "   batch 15000 loss: 0.261527173698134\n",
      "LOSS train 0.261527173698134 valid 0.3150213658809662\n",
      "EPOCH 8:\n",
      "   batch 1000 loss: 0.23191032328566688\n",
      "   batch 2000 loss: 0.24243446343527397\n",
      "   batch 3000 loss: 0.24099966986481014\n",
      "   batch 4000 loss: 0.2428770036441506\n",
      "   batch 5000 loss: 0.23658492632793104\n",
      "   batch 6000 loss: 0.2389057554398114\n",
      "   batch 7000 loss: 0.2515958579651742\n",
      "   batch 8000 loss: 0.2314851083982703\n",
      "   batch 9000 loss: 0.2542360596705003\n",
      "   batch 10000 loss: 0.2553989533646327\n",
      "   batch 11000 loss: 0.2633971589614157\n",
      "   batch 12000 loss: 0.24617544445948794\n",
      "   batch 13000 loss: 0.25475216393735967\n",
      "   batch 14000 loss: 0.2722480241826524\n",
      "   batch 15000 loss: 0.26858098231023725\n",
      "LOSS train 0.26858098231023725 valid 0.29011067748069763\n",
      "EPOCH 9:\n",
      "   batch 1000 loss: 0.2233930718804586\n",
      "   batch 2000 loss: 0.22621190872340777\n",
      "   batch 3000 loss: 0.24109425778511104\n",
      "   batch 4000 loss: 0.23040097526438877\n",
      "   batch 5000 loss: 0.23510842160075596\n",
      "   batch 6000 loss: 0.2527895363534917\n",
      "   batch 7000 loss: 0.2436555694110466\n",
      "   batch 8000 loss: 0.2574059145691499\n",
      "   batch 9000 loss: 0.244140047460754\n",
      "   batch 10000 loss: 0.25364024367610183\n",
      "   batch 11000 loss: 0.22840692141547925\n",
      "   batch 12000 loss: 0.2482021784641329\n",
      "   batch 13000 loss: 0.2332270260091059\n",
      "   batch 14000 loss: 0.23350631265619085\n",
      "   batch 15000 loss: 0.23092408005994686\n",
      "LOSS train 0.23092408005994686 valid 0.32672151923179626\n",
      "EPOCH 10:\n",
      "   batch 1000 loss: 0.22060142280647232\n",
      "   batch 2000 loss: 0.2195465617559603\n",
      "   batch 3000 loss: 0.21280146898485\n",
      "   batch 4000 loss: 0.21656540807604205\n",
      "   batch 5000 loss: 0.23709931806841633\n",
      "   batch 6000 loss: 0.22954272623618363\n",
      "   batch 7000 loss: 0.23718705657033776\n",
      "   batch 8000 loss: 0.22089460677608805\n",
      "   batch 9000 loss: 0.23284940602957113\n",
      "   batch 10000 loss: 0.226308370352476\n",
      "   batch 11000 loss: 0.23443726629165496\n",
      "   batch 12000 loss: 0.23584822362356067\n",
      "   batch 13000 loss: 0.24636293661296527\n",
      "   batch 14000 loss: 0.2414585948425155\n",
      "   batch 15000 loss: 0.23315387781395067\n",
      "LOSS train 0.23315387781395067 valid 0.30079856514930725\n"
     ]
    }
   ],
   "source": [
    "EPOCHS = 5\n",
    "\n",
    "best_vloss = 1_000_000.\n",
    "\n",
    "for epoch in range(EPOCHS):\n",
    "    print('EPOCH {}:'.format(epoch_number + 1))\n",
    "    model.train(True)\n",
    "    avg_loss = train_one_epoch(epoch_number, writer)\n",
    "    model.train(False)\n",
    "\n",
    "    running_vloss = 0.0\n",
    "    for i, vdata in enumerate(validation_loader):\n",
    "        vinputs, vlabels = vdata\n",
    "        voutputs = model(vinputs)\n",
    "        vloss = loss_fn(voutputs, vlabels)\n",
    "        running_vloss += vloss\n",
    "\n",
    "    avg_vloss = running_vloss / (i + 1)\n",
    "    print('LOSS train {} valid {}'.format(avg_loss, avg_vloss))\n",
    "\n",
    "    writer.add_scalars('Training vs. Validation Loss',\n",
    "                       {'Traning' : avg_loss, 'Validation': avg_vloss},\n",
    "                       epoch_number + 1)\n",
    "    writer.flush()\n",
    "\n",
    "    if avg_vloss < best_vloss:\n",
    "        best_vloss = avg_vloss\n",
    "        model_path = './data/model_{}_{}'.format(timestamp, epoch_number)\n",
    "        torch.save(model.state_dict(), model_path)\n",
    "\n",
    "    epoch_number += 1\n",
    "    "
   ]
  },
  {
   "cell_type": "code",
   "execution_count": 35,
   "metadata": {},
   "outputs": [
    {
     "data": {
      "text/plain": [
       "<All keys matched successfully>"
      ]
     },
     "execution_count": 35,
     "metadata": {},
     "output_type": "execute_result"
    }
   ],
   "source": [
    "saved_model = GarmentClassifier()\n",
    "saved_model.load_state_dict(torch.load(model_path))"
   ]
  }
 ],
 "metadata": {
  "kernelspec": {
   "display_name": "pytorch",
   "language": "python",
   "name": "python3"
  },
  "language_info": {
   "codemirror_mode": {
    "name": "ipython",
    "version": 3
   },
   "file_extension": ".py",
   "mimetype": "text/x-python",
   "name": "python",
   "nbconvert_exporter": "python",
   "pygments_lexer": "ipython3",
   "version": "3.9.16"
  }
 },
 "nbformat": 4,
 "nbformat_minor": 2
}
